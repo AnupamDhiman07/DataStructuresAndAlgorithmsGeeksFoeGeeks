{
 "cells": [
  {
   "cell_type": "markdown",
   "id": "ad34a7f4",
   "metadata": {},
   "source": [
    "#### This program calculates the sum of first n natural numbers"
   ]
  },
  {
   "cell_type": "code",
   "execution_count": 1,
   "id": "b8568dd2",
   "metadata": {},
   "outputs": [
    {
     "name": "stdout",
     "output_type": "stream",
     "text": [
      "Enter the number upto which you want to find the sum: 5\n",
      "The sum of first 5 natural numbers is 15.0\n"
     ]
    }
   ],
   "source": [
    "def sum(n):\n",
    "    return (n*(n+1))/2\n",
    "num = int(input(\"Enter a natural number upto which you want to find the sum: \"))\n",
    "result = sum(num)\n",
    "print(f\"The sum of first {num} natural numbers is {result}\")"
   ]
  },
  {
   "cell_type": "markdown",
   "id": "52e0d586",
   "metadata": {},
   "source": [
    "#### Here we are handling the exceptions in the input as well. Suppose someone enters a negative number, then the program will generate a value error."
   ]
  },
  {
   "cell_type": "code",
   "execution_count": 7,
   "id": "518998a0",
   "metadata": {},
   "outputs": [
    {
     "name": "stdout",
     "output_type": "stream",
     "text": [
      "Enter a natural number up to which you want to find the sum: -9\n",
      "Value error: Please enter a non-negative integer.\n"
     ]
    }
   ],
   "source": [
    "def sum_of_natural_numbers(n):\n",
    "    return (n * (n + 1)) // 2  # Use integer division to ensure the result is an integer\n",
    "\n",
    "try:\n",
    "    num = int(input(\"Enter a natural number up to which you want to find the sum: \"))\n",
    "    \n",
    "    if num >= 0:\n",
    "        result = sum_of_natural_numbers(num)\n",
    "        print(f\"The sum of the first {num} natural numbers is {result}\")\n",
    "    else:\n",
    "        print(\"Value error: Please enter a non-negative integer.\")\n",
    "        \n",
    "except ValueError:\n",
    "    print(\"Invalid input. Please enter a valid integer.\")\n"
   ]
  }
 ],
 "metadata": {
  "kernelspec": {
   "display_name": "Python 3 (ipykernel)",
   "language": "python",
   "name": "python3"
  },
  "language_info": {
   "codemirror_mode": {
    "name": "ipython",
    "version": 3
   },
   "file_extension": ".py",
   "mimetype": "text/x-python",
   "name": "python",
   "nbconvert_exporter": "python",
   "pygments_lexer": "ipython3",
   "version": "3.10.13"
  }
 },
 "nbformat": 4,
 "nbformat_minor": 5
}
