{
 "cells": [
  {
   "cell_type": "markdown",
   "id": "28698230",
   "metadata": {},
   "source": [
    "### Write a function that takes as input a number n and then returns the sum of first n numbers"
   ]
  },
  {
   "cell_type": "code",
   "execution_count": 4,
   "id": "8292ff37",
   "metadata": {},
   "outputs": [
    {
     "name": "stdout",
     "output_type": "stream",
     "text": [
      "Enter a number: 3\n",
      "The sum of first 3 numbers is 6\n"
     ]
    }
   ],
   "source": [
    "# Approach 1\n",
    "def total_sum(n):\n",
    "    sum =0\n",
    "    for i in range(1,n+1):\n",
    "        sum = sum+i\n",
    "    return sum\n",
    "n = int(input(\"Enter a number: \"))\n",
    "result = total_sum(n)\n",
    "print(f\"The sum of first {n} numbers is {result}\")"
   ]
  },
  {
   "cell_type": "code",
   "execution_count": 7,
   "id": "63c0ffa4",
   "metadata": {},
   "outputs": [
    {
     "name": "stdout",
     "output_type": "stream",
     "text": [
      "Enter a number: 3\n",
      "the sum of first 3 numbers is 6.0.\n"
     ]
    }
   ],
   "source": [
    "# Approach 2 - better than the first approach\n",
    "def sum(n):\n",
    "    return (n*(n+1))/2\n",
    "n = int(input(\"Enter a number: \"))\n",
    "result = sum(n)\n",
    "print(f\"the sum of first {n} numbers is {result}.\")"
   ]
  },
  {
   "cell_type": "markdown",
   "id": "274240c4",
   "metadata": {},
   "source": [
    "Why is the output a float?\n",
    "\n",
    "In Python, the division operation (/) always returns a float, even if the result is a whole number.\n",
    "\n",
    "If you want to ensure that the result is an integer, you can use the floor division operator (//) instead of the regular division operator."
   ]
  },
  {
   "cell_type": "code",
   "execution_count": null,
   "id": "099a4ac3",
   "metadata": {},
   "outputs": [],
   "source": []
  }
 ],
 "metadata": {
  "kernelspec": {
   "display_name": "Python 3 (ipykernel)",
   "language": "python",
   "name": "python3"
  },
  "language_info": {
   "codemirror_mode": {
    "name": "ipython",
    "version": 3
   },
   "file_extension": ".py",
   "mimetype": "text/x-python",
   "name": "python",
   "nbconvert_exporter": "python",
   "pygments_lexer": "ipython3",
   "version": "3.10.9"
  }
 },
 "nbformat": 4,
 "nbformat_minor": 5
}
