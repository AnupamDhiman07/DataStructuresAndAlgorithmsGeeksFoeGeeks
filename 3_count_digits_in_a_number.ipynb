{
 "cells": [
  {
   "cell_type": "markdown",
   "id": "286b0a56",
   "metadata": {},
   "source": [
    "#### This Jupter notebook takes a number as input from the user and then prints the number of digits in it"
   ]
  },
  {
   "cell_type": "code",
   "execution_count": 2,
   "id": "3e677268",
   "metadata": {},
   "outputs": [
    {
     "name": "stdout",
     "output_type": "stream",
     "text": [
      "Enter the number: 87654\n",
      "The number of digits in the given number are 5\n"
     ]
    }
   ],
   "source": [
    "num = int(input(\"Enter the number: \"))\n",
    "result = 0\n",
    "while num > 0:\n",
    "    num = num//10\n",
    "    result +=1\n",
    "print(f\"The number of digits in the given number are {result}\")"
   ]
  },
  {
   "cell_type": "markdown",
   "id": "d2c36268",
   "metadata": {},
   "source": [
    "#### The above program can also be done using for loop"
   ]
  },
  {
   "cell_type": "code",
   "execution_count": 3,
   "id": "0010c850",
   "metadata": {},
   "outputs": [
    {
     "name": "stdout",
     "output_type": "stream",
     "text": [
      "Enter the number: 7865\n",
      "The number of digits in the given number are 4\n"
     ]
    }
   ],
   "source": [
    "num = int(input(\"Enter the number: \"))\n",
    "result = 0\n",
    "\n",
    "for digit in str(num):\n",
    "    result += 1\n",
    "\n",
    "print(f\"The number of digits in the given number are {result}\")"
   ]
  }
 ],
 "metadata": {
  "kernelspec": {
   "display_name": "Python 3 (ipykernel)",
   "language": "python",
   "name": "python3"
  },
  "language_info": {
   "codemirror_mode": {
    "name": "ipython",
    "version": 3
   },
   "file_extension": ".py",
   "mimetype": "text/x-python",
   "name": "python",
   "nbconvert_exporter": "python",
   "pygments_lexer": "ipython3",
   "version": "3.10.13"
  }
 },
 "nbformat": 4,
 "nbformat_minor": 5
}
